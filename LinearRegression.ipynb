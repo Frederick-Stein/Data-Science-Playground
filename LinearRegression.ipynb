{
  "nbformat": 4,
  "nbformat_minor": 0,
  "metadata": {
    "colab": {
      "provenance": [],
      "machine_shape": "hm",
      "gpuType": "A100",
      "authorship_tag": "ABX9TyMghwIHzJ6CIlOQ8+GnX0ia",
      "include_colab_link": true
    },
    "kernelspec": {
      "name": "python3",
      "display_name": "Python 3"
    },
    "language_info": {
      "name": "python"
    },
    "accelerator": "GPU"
  },
  "cells": [
    {
      "cell_type": "markdown",
      "metadata": {
        "id": "view-in-github",
        "colab_type": "text"
      },
      "source": [
        "<a href=\"https://colab.research.google.com/github/Frederick-Stein/test/blob/main/LinearRegression.ipynb\" target=\"_parent\"><img src=\"https://colab.research.google.com/assets/colab-badge.svg\" alt=\"Open In Colab\"/></a>"
      ]
    },
    {
      "cell_type": "code",
      "source": [
        "import torch\n",
        "import pandas as pd\n",
        "import numpy as np\n",
        "import matplotlib.pyplot as plt\n",
        "import torch.optim as optim\n",
        "import torch.nn as nn"
      ],
      "metadata": {
        "id": "74QuUa31XDQ_"
      },
      "execution_count": null,
      "outputs": []
    },
    {
      "cell_type": "code",
      "source": [
        "# torch.random.set_rng_state\n",
        "# torch.manual_seed(42)\n",
        "sample_size = 100\n",
        "in_features = 6\n",
        "out_features = 1\n",
        "x = torch.randn(sample_size, in_features,\n",
        "                dtype = None,\n",
        "                requires_grad = False)\n",
        "w = torch.randn(size = (in_features, out_features),\n",
        "                dtype = None,\n",
        "                requires_grad = False)\n",
        "b = torch.randn(out_features) * torch.ones(sample_size, out_features)\n",
        "y = torch.mm(x, w) + b\n",
        "\n",
        "train_split = int(0.8 * len(x))\n",
        "x_train, x_test = x[: train_split, :], x[train_split:, :]\n",
        "y_train, y_test = y[: train_split, :], y[train_split:, :]\n",
        "print(f'Weight w: {w}')\n",
        "print(f'Bias b: {b[0]}')\n",
        "print(f'Training data shape: {x_train.shape}')\n",
        "print(f'Testing data shape: {y_train.shape}')\n",
        "print(b.shape)"
      ],
      "metadata": {
        "colab": {
          "base_uri": "https://localhost:8080/"
        },
        "id": "ptfbSZnoaRBk",
        "outputId": "771357f5-be38-4cb7-a52f-1fa187f5ee47"
      },
      "execution_count": null,
      "outputs": [
        {
          "output_type": "stream",
          "name": "stdout",
          "text": [
            "Weight w: tensor([[-1.3680],\n",
            "        [ 0.4654],\n",
            "        [ 1.5659],\n",
            "        [-0.2225],\n",
            "        [ 1.2763],\n",
            "        [-1.2498]])\n",
            "Bias b: tensor([1.9214])\n",
            "Training data shape: torch.Size([80, 6])\n",
            "Testing data shape: torch.Size([80, 1])\n",
            "torch.Size([100, 1])\n"
          ]
        }
      ]
    },
    {
      "cell_type": "code",
      "source": [
        "class LinearRegressionModel(nn.Module):\n",
        "\n",
        "  def __init__(self, in_features: int, out_features: int, bias = True):\n",
        "\n",
        "        super().__init__()\n",
        "        self.in_features = in_features\n",
        "        self.out_features = out_features\n",
        "\n",
        "        self.weight = nn.Parameter(torch.randn(size = (self.out_features, self.in_features),\n",
        "                                        dtype = torch.float32,\n",
        "                                        requires_grad = True,\n",
        "                                        device = None)\n",
        "                            )\n",
        "        if bias:\n",
        "            self.bias = nn.Parameter(torch.randn(out_features,\n",
        "                                            dtype = torch.float32,\n",
        "                                            requires_grad = True,\n",
        "                                            device = None)\n",
        "                            )\n",
        "        else:\n",
        "            self.bias = None\n",
        "\n",
        "  def forward(self, x: torch.Tensor):\n",
        "\n",
        "    y = torch.mm(x, self.weight.T)\n",
        "    if self.bias:\n",
        "      y += self.bias\n",
        "    return y"
      ],
      "metadata": {
        "id": "RCN5mIuThuLi"
      },
      "execution_count": null,
      "outputs": []
    },
    {
      "cell_type": "code",
      "source": [
        "model_0 = LinearRegressionModel(in_features, out_features)\n",
        "optimizer = optim.SGD(model_0.parameters(), lr = 0.1, weight_decay = 0.01)\n",
        "lossfcn = nn.MSELoss()\n",
        "epochs = 101\n",
        "test_error = []\n",
        "train_error = []\n",
        "epoch_count = []\n",
        "\n",
        "for epoch in range(epochs):\n",
        "\n",
        "    model_0.train()\n",
        "\n",
        "    y_predict = model_0(x_train)\n",
        "\n",
        "    loss = lossfcn(y_predict, y_train)\n",
        "\n",
        "    optimizer.zero_grad()\n",
        "    loss.backward()\n",
        "    optimizer.step()\n",
        "\n",
        "    model_0.eval()\n",
        "\n",
        "    with torch.inference_mode():\n",
        "        test_pred = model_0(x_test)\n",
        "\n",
        "        test_loss = lossfcn(test_pred, y_test)\n",
        "\n",
        "        if epoch % 10 == 0:\n",
        "            epoch_count.append(epoch)\n",
        "            test_error.append(test_loss.item())\n",
        "            train_error.append(loss.item())\n",
        "            print(f\"Epoch: {epoch} | MSE for training set: {loss.item(): 4f} | MSE for testing set: {test_loss.item(): 4f}\")"
      ],
      "metadata": {
        "colab": {
          "base_uri": "https://localhost:8080/"
        },
        "id": "IQ_gVFTrg5FC",
        "outputId": "bc35b692-084d-408d-f9ee-9960fd111d80"
      },
      "execution_count": null,
      "outputs": [
        {
          "output_type": "stream",
          "name": "stdout",
          "text": [
            "Epoch: 0 | MSE for training set:  15.369751 | MSE for testing set:  12.883059\n",
            "Epoch: 10 | MSE for training set:  0.412264 | MSE for testing set:  0.518826\n",
            "Epoch: 20 | MSE for training set:  0.027337 | MSE for testing set:  0.035212\n",
            "Epoch: 30 | MSE for training set:  0.002952 | MSE for testing set:  0.004266\n",
            "Epoch: 40 | MSE for training set:  0.000776 | MSE for testing set:  0.001341\n",
            "Epoch: 50 | MSE for training set:  0.000476 | MSE for testing set:  0.000898\n",
            "Epoch: 60 | MSE for training set:  0.000416 | MSE for testing set:  0.000805\n",
            "Epoch: 70 | MSE for training set:  0.000402 | MSE for testing set:  0.000783\n",
            "Epoch: 80 | MSE for training set:  0.000398 | MSE for testing set:  0.000777\n",
            "Epoch: 90 | MSE for training set:  0.000398 | MSE for testing set:  0.000776\n",
            "Epoch: 100 | MSE for training set:  0.000397 | MSE for testing set:  0.000775\n"
          ]
        }
      ]
    },
    {
      "cell_type": "code",
      "source": [
        "plt.plot(epoch_count, train_error, c = 'b', label = 'Training Error')\n",
        "plt.plot(epoch_count, test_error, c = 'r', label = 'Testing Error')\n",
        "plt.legend()"
      ],
      "metadata": {
        "colab": {
          "base_uri": "https://localhost:8080/",
          "height": 447
        },
        "id": "FyhFdWV8p--x",
        "outputId": "963ca31c-0a9a-4d2d-be24-3d338e2ac507"
      },
      "execution_count": null,
      "outputs": [
        {
          "output_type": "execute_result",
          "data": {
            "text/plain": [
              "<matplotlib.legend.Legend at 0x7fe8e8080690>"
            ]
          },
          "metadata": {},
          "execution_count": 85
        },
        {
          "output_type": "display_data",
          "data": {
            "text/plain": [
              "<Figure size 640x480 with 1 Axes>"
            ],
            "image/png": "[encoded data removed]"
          },
          "metadata": {}
        }
      ]
    },
    {
      "cell_type": "code",
      "source": [
        "print(model_0.state_dict())"
      ],
      "metadata": {
        "colab": {
          "base_uri": "https://localhost:8080/"
        },
        "id": "t9oM6B7T0I6E",
        "outputId": "9ae74e95-74dd-4caa-c2ee-9be01f6ed727"
      },
      "execution_count": null,
      "outputs": [
        {
          "output_type": "stream",
          "name": "stdout",
          "text": [
            "OrderedDict([('weight', tensor([[-1.3576,  0.4618,  1.5570, -0.2226,  1.2668, -1.2391]])), ('bias', tensor([1.9085]))])\n"
          ]
        }
      ]
    },
    {
      "cell_type": "code",
      "source": [],
      "metadata": {
        "id": "pkPn5uPS0ZuL"
      },
      "execution_count": null,
      "outputs": []
    }
  ]
}