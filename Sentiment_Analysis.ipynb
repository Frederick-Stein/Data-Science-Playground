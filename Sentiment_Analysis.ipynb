{
  "nbformat": 4,
  "nbformat_minor": 0,
  "metadata": {
    "colab": {
      "provenance": [],
      "gpuType": "T4",
      "authorship_tag": "ABX9TyP42u33l2JitGJ4qY/KF7Ig",
      "include_colab_link": true
    },
    "kernelspec": {
      "name": "python3",
      "display_name": "Python 3"
    },
    "language_info": {
      "name": "python"
    },
    "accelerator": "GPU"
  },
  "cells": [
    {
      "cell_type": "markdown",
      "metadata": {
        "id": "view-in-github",
        "colab_type": "text"
      },
      "source": [
        "<a href=\"https://colab.research.google.com/github/Frederick-Stein/Data-Science-Playground/blob/main/Sentiment_Analysis.ipynb\" target=\"_parent\"><img src=\"https://colab.research.google.com/assets/colab-badge.svg\" alt=\"Open In Colab\"/></a>"
      ]
    },
    {
      "cell_type": "code",
      "execution_count": 9,
      "metadata": {
        "id": "6cHhWDI6vs9i"
      },
      "outputs": [],
      "source": [
        "import torch\n",
        "import numpy as np\n",
        "import torch.nn as nn\n",
        "import torch.optim as optim\n",
        "from torch.utils.data import TensorDataset, DataLoader, random_split\n",
        "import matplotlib.pyplot as plt\n",
        "import pandas as pd\n",
        "from tqdm import tqdm ## progress bar"
      ]
    },
    {
      "cell_type": "code",
      "source": [
        "## get data from github\n",
        "df = pd.read_csv(\"https://raw.githubusercontent.com/Frederick-Stein/Data-Science-Playground/refs/heads/main/ToyModels/Sentiment_Analysis/preprocessed_data.csv\")\n",
        "df.head(10)\n",
        "sentences = df['able play youtube alexa']\n",
        "labels = df['0.5']\n",
        "labels = torch.tensor(labels.values, dtype=torch.float32)\n",
        "labels.shape"
      ],
      "metadata": {
        "colab": {
          "base_uri": "https://localhost:8080/"
        },
        "id": "K3DOZ2Nnxh4_",
        "outputId": "53258c96-e219-46c2-e136-20b9ff66a53c"
      },
      "execution_count": 10,
      "outputs": [
        {
          "output_type": "execute_result",
          "data": {
            "text/plain": [
              "torch.Size([4083])"
            ]
          },
          "metadata": {},
          "execution_count": 10
        }
      ]
    },
    {
      "cell_type": "code",
      "source": [
        "torch.manual_seed(42)\n",
        "## prepare encoded data\n",
        "def prepare_data(sentences):\n",
        "\n",
        "    words = set()\n",
        "    for sentence in sentences:\n",
        "        for word in sentence.split():\n",
        "            words.add(word)\n",
        "\n",
        "    token_to_id = {\"<PAD>\": 0, \"<EOS>\": 1}\n",
        "    id_to_token = {0: \"<PAD>\", 1: \"<EOS>\"}\n",
        "    for i, word in enumerate(words, start = 2):\n",
        "        token_to_id[word] = i\n",
        "        id_to_token[i] = word\n",
        "\n",
        "    vocab_size = len(token_to_id)\n",
        "\n",
        "    def encode(sentence):\n",
        "        ids = []\n",
        "        for word in sentence.split():\n",
        "            ids.append(token_to_id[word])\n",
        "        return ids\n",
        "\n",
        "    encoded_sentences = [torch.tensor(encode(sentence)) for sentence in sentences]\n",
        "    padded_sentences =  nn.utils.rnn.pad_sequence(encoded_sentences, batch_first=True, padding_value=0)\n",
        "    return vocab_size, padded_sentences, token_to_id, id_to_token"
      ],
      "metadata": {
        "id": "-QP1L1YM6qc4"
      },
      "execution_count": 11,
      "outputs": []
    },
    {
      "cell_type": "code",
      "source": [
        "## prepare data\n",
        "vocab_size, input, token_to_id, id_to_token = prepare_data(sentences)\n",
        "output = labels.unsqueeze(1)\n",
        "dataset = TensorDataset(input, output)\n",
        "\n",
        "## get train_data and test_data\n",
        "train_size = int(0.8 * len(dataset))\n",
        "test_size  = len(dataset) - train_size\n",
        "train_data, test_data = random_split(dataset, [train_size, test_size])\n",
        "\n",
        "## set dataloader\n",
        "batch_size = 64\n",
        "train_loader = DataLoader(train_data, batch_size=batch_size, shuffle=True)\n",
        "test_loader = DataLoader(test_data, batch_size=batch_size, shuffle=False)"
      ],
      "metadata": {
        "id": "FKJThcs_9c2i"
      },
      "execution_count": 12,
      "outputs": []
    },
    {
      "cell_type": "code",
      "source": [
        "## construct function\n",
        "class EmotionPredictor(nn.Module):\n",
        "\n",
        "    def __init__(self, vocab_size, d_model):\n",
        "        super().__init__()\n",
        "\n",
        "        self.embedding = nn.Embedding(vocab_size, d_model, padding_idx=0)\n",
        "        self.linear = nn.Linear(d_model, 1)\n",
        "        self.tanch = nn.Tanh()\n",
        "\n",
        "    def forward(self, x):\n",
        "\n",
        "        embedding = self.embedding(x)\n",
        "        averaged = torch.mean(embedding, dim = 1)\n",
        "        full_layer = self.linear(averaged)\n",
        "        output = self.tanch(full_layer)\n",
        "        return output"
      ],
      "metadata": {
        "id": "J6ph8AGFB19q"
      },
      "execution_count": 13,
      "outputs": []
    },
    {
      "cell_type": "code",
      "source": [
        "## test model\n",
        "model = EmotionPredictor(vocab_size, 256)\n",
        "X0, y0 = next(iter(train_loader))\n",
        "output = model(X0)\n",
        "output.shape"
      ],
      "metadata": {
        "colab": {
          "base_uri": "https://localhost:8080/"
        },
        "id": "pYkm3EJAJdGj",
        "outputId": "a60403b1-e56a-4269-f411-a23f87f45153"
      },
      "execution_count": 14,
      "outputs": [
        {
          "output_type": "execute_result",
          "data": {
            "text/plain": [
              "torch.Size([64, 1])"
            ]
          },
          "metadata": {},
          "execution_count": 14
        }
      ]
    },
    {
      "cell_type": "code",
      "source": [
        "## training process\n",
        "device = torch.device(\"cuda\" if torch.cuda.is_available() else \"cpu\")\n",
        "model = EmotionPredictor(vocab_size, 256).to(device)\n",
        "loss_fn = nn.MSELoss()\n",
        "optimizer = optim.Adam(model.parameters(), lr=0.001, weight_decay = 1e-4)\n",
        "\n",
        "train_error = []\n",
        "# train_accuracy = []\n",
        "test_error = []\n",
        "# test_accuracy = []\n",
        "\n",
        "Epochs = 100\n",
        "for epoch in tqdm(range(1, Epochs + 1)):\n",
        "    model.train()\n",
        "    train_loss = 0\n",
        "\n",
        "    for X, y in train_loader:\n",
        "        X = X.to(device)\n",
        "        y = y.to(device)\n",
        "        y_pred = model(X)\n",
        "        loss = loss_fn(y_pred, y)\n",
        "        optimizer.zero_grad()\n",
        "        loss.backward()\n",
        "        optimizer.step()\n",
        "        train_loss += loss.item()\n",
        "\n",
        "    train_loss /= len(train_loader)\n",
        "    train_error.append(train_loss)\n",
        "\n",
        "    model.eval()\n",
        "    test_loss = 0\n",
        "    with torch.inference_mode():\n",
        "        for X, y in test_loader:\n",
        "            X = X.to(device)\n",
        "            y = y.to(device)\n",
        "            y_pred = model(X)\n",
        "            loss = loss_fn(y_pred, y)\n",
        "            test_loss += loss.item()\n",
        "\n",
        "    test_loss /= len(test_loader)\n",
        "    test_error.append(test_loss)\n",
        "\n",
        "    if epoch % 10 == 0:\n",
        "        print(f\"Epoch {epoch}, Train Loss: {train_loss:.4f}, Test Loss: {test_loss:.4f}\")"
      ],
      "metadata": {
        "colab": {
          "base_uri": "https://localhost:8080/"
        },
        "id": "D_MbOPFaKNl7",
        "outputId": "174f02df-7a78-45d1-bc9c-4e83e4f91b50"
      },
      "execution_count": 18,
      "outputs": [
        {
          "output_type": "stream",
          "name": "stderr",
          "text": [
            " 11%|█         | 11/100 [00:01<00:11,  7.67it/s]"
          ]
        },
        {
          "output_type": "stream",
          "name": "stdout",
          "text": [
            "Epoch 10, Train Loss: 0.1104, Test Loss: 0.1093\n"
          ]
        },
        {
          "output_type": "stream",
          "name": "stderr",
          "text": [
            " 21%|██        | 21/100 [00:02<00:10,  7.85it/s]"
          ]
        },
        {
          "output_type": "stream",
          "name": "stdout",
          "text": [
            "Epoch 20, Train Loss: 0.0910, Test Loss: 0.0961\n"
          ]
        },
        {
          "output_type": "stream",
          "name": "stderr",
          "text": [
            " 31%|███       | 31/100 [00:04<00:08,  7.90it/s]"
          ]
        },
        {
          "output_type": "stream",
          "name": "stdout",
          "text": [
            "Epoch 30, Train Loss: 0.0824, Test Loss: 0.0892\n"
          ]
        },
        {
          "output_type": "stream",
          "name": "stderr",
          "text": [
            " 41%|████      | 41/100 [00:05<00:07,  7.51it/s]"
          ]
        },
        {
          "output_type": "stream",
          "name": "stdout",
          "text": [
            "Epoch 40, Train Loss: 0.0759, Test Loss: 0.0837\n"
          ]
        },
        {
          "output_type": "stream",
          "name": "stderr",
          "text": [
            " 51%|█████     | 51/100 [00:06<00:06,  7.95it/s]"
          ]
        },
        {
          "output_type": "stream",
          "name": "stdout",
          "text": [
            "Epoch 50, Train Loss: 0.0711, Test Loss: 0.0794\n"
          ]
        },
        {
          "output_type": "stream",
          "name": "stderr",
          "text": [
            " 61%|██████    | 61/100 [00:07<00:05,  7.75it/s]"
          ]
        },
        {
          "output_type": "stream",
          "name": "stdout",
          "text": [
            "Epoch 60, Train Loss: 0.0666, Test Loss: 0.0763\n"
          ]
        },
        {
          "output_type": "stream",
          "name": "stderr",
          "text": [
            " 70%|███████   | 70/100 [00:09<00:05,  5.07it/s]"
          ]
        },
        {
          "output_type": "stream",
          "name": "stdout",
          "text": [
            "Epoch 70, Train Loss: 0.0629, Test Loss: 0.0742\n"
          ]
        },
        {
          "output_type": "stream",
          "name": "stderr",
          "text": [
            " 81%|████████  | 81/100 [00:12<00:03,  6.24it/s]"
          ]
        },
        {
          "output_type": "stream",
          "name": "stdout",
          "text": [
            "Epoch 80, Train Loss: 0.0613, Test Loss: 0.0736\n"
          ]
        },
        {
          "output_type": "stream",
          "name": "stderr",
          "text": [
            " 91%|█████████ | 91/100 [00:13<00:01,  7.38it/s]"
          ]
        },
        {
          "output_type": "stream",
          "name": "stdout",
          "text": [
            "Epoch 90, Train Loss: 0.0590, Test Loss: 0.0723\n"
          ]
        },
        {
          "output_type": "stream",
          "name": "stderr",
          "text": [
            "100%|██████████| 100/100 [00:14<00:00,  6.78it/s]"
          ]
        },
        {
          "output_type": "stream",
          "name": "stdout",
          "text": [
            "Epoch 100, Train Loss: 0.0601, Test Loss: 0.0715\n"
          ]
        },
        {
          "output_type": "stream",
          "name": "stderr",
          "text": [
            "\n"
          ]
        }
      ]
    },
    {
      "cell_type": "code",
      "source": [
        "plt.plot(train_error, label=\"train_error\")\n",
        "plt.plot(test_error, label=\"test_error\")\n",
        "plt.legend()\n",
        "plt.show()"
      ],
      "metadata": {
        "colab": {
          "base_uri": "https://localhost:8080/",
          "height": 430
        },
        "id": "SGh42MNMO1B9",
        "outputId": "1f763559-3ed3-4190-f605-f2c32fb5b9f5"
      },
      "execution_count": 19,
      "outputs": [
        {
          "output_type": "display_data",
          "data": {
            "text/plain": [
              "<Figure size 640x480 with 1 Axes>"
            ],
            "image/png": "[encoded data removed]"
          },
          "metadata": {}
        }
      ]
    },
    {
      "cell_type": "code",
      "source": [
        "test1 = \"echo dot not work pls provide service center detail\"\n",
        "test2 = 'best thing ever'\n",
        "test3 = \"i dont like this movie\"\n",
        "test4 = \"weird but funny movie\"\n",
        "test = [test1, test2, test3, test4]\n",
        "\n",
        "encoded_test = []\n",
        "for sentence in test:\n",
        "    ids = []\n",
        "    for word in sentence.split():\n",
        "        if word in token_to_id:\n",
        "            ids.append(token_to_id[word])\n",
        "        else:\n",
        "            ids.append(0)\n",
        "    encoded_test.append(torch.tensor(ids))\n",
        "\n",
        "padded_test = nn.utils.rnn.pad_sequence(encoded_test, batch_first=True, padding_value=0)\n",
        "padded_test = padded_test.to(device)\n",
        "with torch.inference_mode():\n",
        "    output = model(padded_test)\n",
        "\n",
        "print(output.tolist())"
      ],
      "metadata": {
        "colab": {
          "base_uri": "https://localhost:8080/"
        },
        "id": "AUmFEv01Saqe",
        "outputId": "5847a7e9-0e0c-44d7-9ac6-1136af5231d0"
      },
      "execution_count": 31,
      "outputs": [
        {
          "output_type": "stream",
          "name": "stdout",
          "text": [
            "[[-0.9991450905799866], [0.999995768070221], [-0.5543029308319092], [0.11358121782541275]]\n"
          ]
        }
      ]
    }
  ]
}