{
  "nbformat": 4,
  "nbformat_minor": 0,
  "metadata": {
    "colab": {
      "provenance": [],
      "machine_shape": "hm",
      "gpuType": "A100",
      "authorship_tag": "ABX9TyOCGkmsJXjlFjmJkXukaCrC",
      "include_colab_link": true
    },
    "kernelspec": {
      "name": "python3",
      "display_name": "Python 3"
    },
    "language_info": {
      "name": "python"
    },
    "accelerator": "GPU"
  },
  "cells": [
    {
      "cell_type": "markdown",
      "metadata": {
        "id": "view-in-github",
        "colab_type": "text"
      },
      "source": [
        "<a href=\"https://colab.research.google.com/github/Frederick-Stein/Data-Science-Playground/blob/main/NNClassification.ipynb\" target=\"_parent\"><img src=\"https://colab.research.google.com/assets/colab-badge.svg\" alt=\"Open In Colab\"/></a>"
      ]
    },
    {
      "cell_type": "code",
      "execution_count": null,
      "metadata": {
        "id": "2jtjFVTCfNzk"
      },
      "outputs": [],
      "source": [
        "import torch\n",
        "import torch.nn as nn\n",
        "import numpy as np\n",
        "import torch.optim as optim\n",
        "import matplotlib.pyplot as plt\n",
        "from torch.utils.data import random_split, DataLoader\n",
        "import torch.nn.functional as F\n",
        "import pandas as pd\n",
        "from torchvision import datasets, transforms\n",
        "from  pathlib import Path\n",
        "from torchmetrics.classification import Accuracy\n",
        "from timeit import default_timer as timer"
      ]
    },
    {
      "cell_type": "code",
      "source": [
        "# 1) Transforms (tensor + normalize to MNIST stats)\n",
        "transform = transforms.Compose([transforms.ToTensor(),\n",
        "                              transforms.Normalize((0.1307,), (0.3081,)),\n",
        "                              ])\n",
        "\n",
        "# 2) Datasets (downloaded to ./data)\n",
        "train_data = datasets.MNIST(root=\"./data\", train=True,  download=True, transform=transform)\n",
        "test_data = datasets.MNIST(root=\"./data\", train=False, download=True, transform=transform)\n",
        "\n",
        "print(f\"Train data shape: {train_data}\")\n",
        "\n",
        "# 3) Split data into train and validation\n",
        "train_data, val_data = random_split(train_data, [55000, 5000], generator=torch.Generator().manual_seed(41))\n",
        "\n",
        "# 4) Set device and loader\n",
        "device = torch.device('cuda' if torch.cuda.is_available() else 'cpu')\n",
        "print(f'Device: {device}')\n",
        "pin = (device.type == \"cuda\")\n",
        "\n",
        "train_loader = DataLoader(train_data, batch_size = 128, shuffle = True, pin_memory = pin)\n",
        "val_loader = DataLoader(val_data, batch_size = 128, shuffle = True, pin_memory = pin)\n",
        "test_loader = DataLoader(test_data, batch_size = 128, shuffle = True, pin_memory = pin)"
      ],
      "metadata": {
        "colab": {
          "base_uri": "https://localhost:8080/"
        },
        "id": "HjUazCL3igYV",
        "outputId": "862913ea-365e-48cf-fa72-17bd44eeae5d"
      },
      "execution_count": null,
      "outputs": [
        {
          "output_type": "stream",
          "name": "stdout",
          "text": [
            "Train data shape: Dataset MNIST\n",
            "    Number of datapoints: 60000\n",
            "    Root location: ./data\n",
            "    Split: Train\n",
            "    StandardTransform\n",
            "Transform: Compose(\n",
            "               ToTensor()\n",
            "               Normalize(mean=(0.1307,), std=(0.3081,))\n",
            "           )\n",
            "Device: cuda\n"
          ]
        }
      ]
    },
    {
      "cell_type": "code",
      "source": [
        "generator1 = torch.Generator().manual_seed(42)\n",
        "# 1) Datasets\n",
        "train_data = datasets.FashionMNIST(root=\"./data\", train=True,  download=True, transform=transforms.ToTensor())\n",
        "test_data = datasets.FashionMNIST(root=\"./data\", train=False, download=True, transform=transforms.ToTensor())\n",
        "\n",
        "image, label = next(iter(test_data))\n",
        "print(f\"Sample size of Train data: {len(train_data)}, image: {image.size()}, label: {label}\")\n",
        "plt.imshow(image.squeeze(), cmap=\"gray\")\n",
        "class_name = train_data.classes\n",
        "print(f\"Class names: {class_name}\")\n",
        "\n",
        "# 2) Split data\n",
        "split_ratio = 0.8\n",
        "train_size = int(split_ratio * len(train_data))\n",
        "val_size = len(train_data) - train_size\n",
        "train_data, val_data = random_split(train_data, [train_size, val_size], generator=generator1)\n",
        "\n",
        "# 3) Set device and loader\n",
        "device = torch.device('cuda' if torch.cuda.is_available() else 'cpu')\n",
        "pin = (device.type == 'cuda')\n",
        "print(f'Device: {device}')\n",
        "\n",
        "Batch_size = 32\n",
        "train_loader = DataLoader(train_data, batch_size = Batch_size, shuffle = True, pin_memory = pin)\n",
        "test_loader = DataLoader(test_data, batch_size = Batch_size, shuffle = False, pin_memory = pin)"
      ],
      "metadata": {
        "colab": {
          "base_uri": "https://localhost:8080/",
          "height": 482
        },
        "id": "OWmN6Jc_JyeN",
        "outputId": "014a0d31-6789-4944-802c-7fdb0af637b8"
      },
      "execution_count": null,
      "outputs": [
        {
          "output_type": "stream",
          "name": "stdout",
          "text": [
            "Sample size of Train data: 60000, image: torch.Size([1, 28, 28]), label: 9\n",
            "Class names: ['T-shirt/top', 'Trouser', 'Pullover', 'Dress', 'Coat', 'Sandal', 'Shirt', 'Sneaker', 'Bag', 'Ankle boot']\n",
            "Device: cuda\n"
          ]
        },
        {
          "output_type": "display_data",
          "data": {
            "text/plain": [
              "<Figure size 640x480 with 1 Axes>"
            ],
            "image/png": "[encoded data removed]"
          },
          "metadata": {}
        }
      ]
    },
    {
      "cell_type": "code",
      "source": [
        "## Define a timer\n",
        "def train_time(start, end, device: torch.device = None):\n",
        "    total_time = end - start\n",
        "    print(f\"Train time on {device}: {total_time:.3f} seconds\")"
      ],
      "metadata": {
        "id": "i0IxeFEdQKSM"
      },
      "execution_count": null,
      "outputs": []
    },
    {
      "cell_type": "code",
      "source": [
        "# class ClassificationNN(nn.Module):\n",
        "\n",
        "#     def __init__(self, sizes):\n",
        "\n",
        "#         super().__init__()\n",
        "\n",
        "#         self.num_layers = len(sizes)\n",
        "#         self.sizes = sizes\n",
        "\n",
        "#         self.weights = nn.ParameterList([nn.Parameter(torch.randn(y, x)) for x, y in zip(sizes[:-1], sizes[1:])])\n",
        "#         self.biases = nn.ParameterList([nn.Parameter(torch.randn(y)) for y in sizes[1:]])\n",
        "\n",
        "#     def forward(self, x):\n",
        "#         x = x.view(x.shape[0], -1)\n",
        "#         for i in range(self.num_layers - 1):\n",
        "#             y = torch.mm(x, self.weights[i].T) + self.biases[i]\n",
        "#             if i != self.num_layers - 2:\n",
        "#                 # Sigmoid activation for all layers\n",
        "#                 x = torch.sigmoid(y)\n",
        "\n",
        "#                 # ReLU activation for all layers except the last one\n",
        "#                 # x = F.relu(y)\n",
        "#             else:\n",
        "#                 x = y\n",
        "\n",
        "#         return x"
      ],
      "metadata": {
        "id": "DMePPQxCn-Tm"
      },
      "execution_count": null,
      "outputs": []
    },
    {
      "cell_type": "code",
      "source": [
        "# class ClassificationNN(nn.Module):\n",
        "\n",
        "#     def __init__(self, sizes):\n",
        "\n",
        "#         super().__init__()\n",
        "\n",
        "#         self.num_layers = len(sizes)\n",
        "#         self.sizes = sizes\n",
        "\n",
        "#         self.layers = nn.ModuleList([nn.Linear(x, y) for x, y in zip(sizes[:-1], sizes[1:])])\n",
        "#         self.relu = nn.ReLU()\n",
        "#         self.sigmoid = nn.Sigmoid()\n",
        "#         self.tanh = nn.Tanh()\n",
        "\n",
        "#     def forward(self, x):\n",
        "#         x = x.view(x.shape[0], -1)\n",
        "#         for layer in self.layers[:-1]:\n",
        "#             # x = torch.sigmoid(layer(x))  # hidden layers\n",
        "#             # x = self.relu(layer(x))\n",
        "#             x = self.tanh(layer(x))\n",
        "\n",
        "#         x = self.layers[-1](x)  # last layer (logits)\n",
        "#         return x"
      ],
      "metadata": {
        "id": "ESgWFuY0ANFl"
      },
      "execution_count": null,
      "outputs": []
    },
    {
      "cell_type": "code",
      "source": [
        "class ClassificationNN(nn.Module):\n",
        "\n",
        "    def __init__(self, sizes):\n",
        "\n",
        "        super().__init__()\n",
        "\n",
        "        self.activiation = nn.ReLU()\n",
        "        # self.activiation = nn.Sigmoid()\n",
        "        # self.activiation = nn.Tanh()\n",
        "\n",
        "        layers = [nn.Flatten()]\n",
        "        for i in range(len(sizes) - 1):\n",
        "            layers.append(nn.Linear(sizes[i], sizes[i+1]))\n",
        "            if i != len(sizes) - 2:\n",
        "                layers.append(self.activiation)\n",
        "        self.layer_stack = nn.Sequential(*layers)\n",
        "\n",
        "    def forward(self, x):\n",
        "        return self.layer_stack(x)"
      ],
      "metadata": {
        "id": "qHXmG1Y47xG2"
      },
      "execution_count": null,
      "outputs": []
    },
    {
      "cell_type": "code",
      "source": [
        "X_0, y_0 = next(iter(train_loader))\n",
        "print(X_0.shape, y_0)\n",
        "device\n",
        "model = ClassificationNN([784, 30, 10]).to(device)\n",
        "X_0= X_0.to(device)\n",
        "model(X_0)"
      ],
      "metadata": {
        "id": "fzoAJIrJ3Wak"
      },
      "execution_count": null,
      "outputs": []
    },
    {
      "cell_type": "code",
      "source": [
        "## Move the model to the device\n",
        "model = ClassificationNN([784, 30, 30, len(class_name)]).to(device)\n",
        "\n",
        "## Loss function\n",
        "loss_fcn = nn.CrossEntropyLoss()\n",
        "\n",
        "## Optimization method\n",
        "# optimizer = optim.SGD(model.parameters(), lr = 0.1, momentum = 0.9)\n",
        "optimizer = optim.Adam(model.parameters(), lr = 0.001, weight_decay= 1e-4)\n",
        "\n",
        "\n",
        "## Metric setup\n",
        "# accuracy_metric = Accuracy(task=\"multiclass\", num_classes=10).to(device)\n",
        "\n",
        "epochs = 5\n",
        "train_error = []\n",
        "test_error = []\n",
        "train_accuracy = []\n",
        "test_accuracy = []\n",
        "epoch_range = []\n",
        "\n",
        "train_time_start = timer()\n",
        "\n",
        "for epoch in range(1, epochs+1):\n",
        "\n",
        "    model.train()\n",
        "    train_loss = 0\n",
        "    correct_train = 0\n",
        "    accuracy_metric.reset()\n",
        "\n",
        "    for X_batch, y_batch in train_loader:\n",
        "\n",
        "        # Move data to device\n",
        "        X_batch = X_batch.to(device)\n",
        "        y_batch = y_batch.to(device)\n",
        "\n",
        "        # Feedforward\n",
        "        y_pred = model(X_batch)\n",
        "\n",
        "        # Compute loss\n",
        "        loss = loss_fcn(y_pred, y_batch)\n",
        "\n",
        "        # Initialize optimizer\n",
        "        optimizer.zero_grad()\n",
        "\n",
        "        # Back-propogation\n",
        "        loss.backward()\n",
        "\n",
        "        # Gradient descent\n",
        "        optimizer.step()\n",
        "\n",
        "        train_loss += loss.detach().item() * X_batch.size(0)\n",
        "        predicted = y_pred.argmax(dim=1)\n",
        "        correct_train += (predicted == y_batch).sum().item()\n",
        "        # accuracy_metric.update(predicted, y_batch)\n",
        "\n",
        "    train_loss /= len(train_data)\n",
        "    train_acc = correct_train / len(train_data) * 100 # train accuracy\n",
        "    # train_acc = accuracy_metric.compute().item() * 100\n",
        "\n",
        "    model.eval()\n",
        "    with torch.inference_mode():\n",
        "        correct_test = 0 # accuracy\n",
        "        test_loss = 0\n",
        "        # accuracy_metric.reset()\n",
        "\n",
        "\n",
        "        for X_batch, y_batch in test_loader:\n",
        "            # Move data to device\n",
        "            X_batch = X_batch.to(device, non_blocking=True)\n",
        "            y_batch = y_batch.to(device, non_blocking=True)\n",
        "\n",
        "            # Training process\n",
        "            y_pred = model(X_batch)\n",
        "\n",
        "            loss = loss_fcn(y_pred, y_batch)\n",
        "            test_loss += loss.item() * X_batch.size(0)\n",
        "\n",
        "            # Calculate accuracy\n",
        "            predicted = y_pred.argmax(dim=1)\n",
        "            correct_test += (predicted == y_batch).sum().item()\n",
        "            # accuracy_metric.update(predicted, y_batch)\n",
        "\n",
        "        test_loss /= len(test_data)\n",
        "        test_acc = correct_test / len(test_data) * 100\n",
        "        # test_acc = accuracy_metric.compute().item() * 100\n",
        "\n",
        "        train_error.append(train_loss)\n",
        "        test_error.append(test_loss)\n",
        "        train_accuracy.append(train_acc)\n",
        "        test_accuracy.append(test_acc)\n",
        "        epoch_range.append(epoch)\n",
        "\n",
        "        if epoch % 5 == 0:\n",
        "            print(f\"Epoch: {epoch} | Train loss: {train_loss: .4f} | Test loss: {test_loss: .4f} | Test accuracy: {test_acc:.2f}%\")\n",
        "\n",
        "train_time_end = timer()\n",
        "train_time(train_time_start, train_time_end, device)"
      ],
      "metadata": {
        "colab": {
          "base_uri": "https://localhost:8080/"
        },
        "id": "npsFT6FztyXr",
        "outputId": "d8a48198-4120-4c5c-b2db-9d86f1e52de3"
      },
      "execution_count": null,
      "outputs": [
        {
          "output_type": "stream",
          "name": "stdout",
          "text": [
            "Epoch: 5 | Train loss:  0.3624 | Test loss:  0.4028 | Test accuracy: 85.75%\n",
            "Epoch: 10 | Train loss:  0.3092 | Test loss:  0.4317 | Test accuracy: 85.18%\n",
            "Epoch: 15 | Train loss:  0.2840 | Test loss:  0.3735 | Test accuracy: 86.97%\n",
            "Epoch: 20 | Train loss:  0.2638 | Test loss:  0.3710 | Test accuracy: 87.31%\n",
            "Train time on cuda: 198.041 seconds\n"
          ]
        },
        {
          "output_type": "execute_result",
          "data": {
            "text/plain": [
              "198.04119491099846"
            ]
          },
          "metadata": {},
          "execution_count": 233
        }
      ]
    },
    {
      "cell_type": "code",
      "source": [
        "plt.plot(epoch_range, train_error, label = \"Train error\")\n",
        "plt.plot(epoch_range, test_error, label = \"Test error\")\n",
        "plt.legend()"
      ],
      "metadata": {
        "colab": {
          "base_uri": "https://localhost:8080/",
          "height": 447
        },
        "id": "uQthuD5uFx4x",
        "outputId": "46396139-af5b-4582-bcff-a4c08bb906d5"
      },
      "execution_count": null,
      "outputs": [
        {
          "output_type": "execute_result",
          "data": {
            "text/plain": [
              "<matplotlib.legend.Legend at 0x7838303c1a90>"
            ]
          },
          "metadata": {},
          "execution_count": 235
        },
        {
          "output_type": "display_data",
          "data": {
            "text/plain": [
              "<Figure size 640x480 with 1 Axes>"
            ],
            "image/png": "[encoded data removed]"
          },
          "metadata": {}
        }
      ]
    },
    {
      "cell_type": "code",
      "source": [
        "plt.plot(epoch_range, train_accuracy, label = \"Train accuracy\")\n",
        "plt.plot(epoch_range, test_accuracy, label = \"Test accuracy\")\n",
        "plt.legend()"
      ],
      "metadata": {
        "colab": {
          "base_uri": "https://localhost:8080/",
          "height": 447
        },
        "id": "D9ym_K1jOVcd",
        "outputId": "aeb5b552-fece-4057-aa3a-1916a81c68bd"
      },
      "execution_count": null,
      "outputs": [
        {
          "output_type": "execute_result",
          "data": {
            "text/plain": [
              "<matplotlib.legend.Legend at 0x7837dfd01290>"
            ]
          },
          "metadata": {},
          "execution_count": 236
        },
        {
          "output_type": "display_data",
          "data": {
            "text/plain": [
              "<Figure size 640x480 with 1 Axes>"
            ],
            "image/png": "[encoded data removed]"
          },
          "metadata": {}
        }
      ]
    },
    {
      "cell_type": "code",
      "source": [
        "## Save and load\n",
        "\n",
        "# Create models direcory\n",
        "MODEL_PATH = Path('models')\n",
        "MODEL_PATH.mkdir(parents=True, exist_ok=True)\n",
        "\n",
        "# Create model save path\n",
        "MODEL_NAME = 'NNclassification_model.pth'\n",
        "MODEL_SAVE_PATH = MODEL_PATH / MODEL_NAME\n",
        "\n",
        "# Save model state dict\n",
        "torch.save(model.state_dict(), f = MODEL_SAVE_PATH)\n",
        "\n",
        "# Save model\n",
        "# torch.save(model, f= MODEL_SAVE_PATH)\n",
        "\n",
        "# Load Model\n",
        "# loaded_model = ClassificationNN([784, 30, 10])\n",
        "# loaded_model.load_state_dict(torch.load(f=MODEL_SAVE_PATH))"
      ],
      "metadata": {
        "colab": {
          "base_uri": "https://localhost:8080/"
        },
        "id": "e8fXOJ0COVZD",
        "outputId": "cb5dd1af-17a5-47d6-85a7-4694a246642e"
      },
      "execution_count": null,
      "outputs": [
        {
          "output_type": "execute_result",
          "data": {
            "text/plain": [
              "<All keys matched successfully>"
            ]
          },
          "metadata": {},
          "execution_count": 132
        }
      ]
    }
  ]
}