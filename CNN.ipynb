{
  "nbformat": 4,
  "nbformat_minor": 0,
  "metadata": {
    "colab": {
      "provenance": [],
      "machine_shape": "hm",
      "authorship_tag": "ABX9TyMBe1pVR2oR2y5ns32JkdwZ",
      "include_colab_link": true
    },
    "kernelspec": {
      "name": "python3",
      "display_name": "Python 3"
    },
    "language_info": {
      "name": "python"
    }
  },
  "cells": [
    {
      "cell_type": "markdown",
      "metadata": {
        "id": "view-in-github",
        "colab_type": "text"
      },
      "source": [
        "<a href=\"https://colab.research.google.com/github/Frederick-Stein/Data-Science-Playground/blob/main/CNN.ipynb\" target=\"_parent\"><img src=\"https://colab.research.google.com/assets/colab-badge.svg\" alt=\"Open In Colab\"/></a>"
      ]
    },
    {
      "cell_type": "code",
      "execution_count": 1,
      "metadata": {
        "id": "OZg5gsv5jo1y"
      },
      "outputs": [],
      "source": [
        "import torch\n",
        "import numpy as np\n",
        "import pandas as pd\n",
        "import torch.nn as nn\n",
        "import torch.optim as optim\n",
        "import matplotlib.pyplot as plt\n",
        "import torch.nn.functional as F\n",
        "from torchvision import datasets, transforms\n",
        "from torch.utils.data import random_split, DataLoader\n",
        "from  pathlib import Path\n",
        "from timeit import default_timer as timer\n",
        "from tqdm import tqdm ## progress bar"
      ]
    },
    {
      "cell_type": "code",
      "source": [
        "generator1 = torch.Generator().manual_seed(42)\n",
        "# 1) Datasets\n",
        "train_data = datasets.FashionMNIST(root=\"./data\", train=True,  download=True, transform=transforms.ToTensor())\n",
        "test_data = datasets.FashionMNIST(root=\"./data\", train=False, download=True, transform=transforms.ToTensor())\n",
        "\n",
        "image, label = next(iter(test_data))\n",
        "print(f\"Sample size of Train data: {len(train_data)}, image: {image.size()}, label: {label}\")\n",
        "plt.imshow(image.squeeze(), cmap=\"gray\")\n",
        "class_name = train_data.classes\n",
        "print(f\"Class names: {class_name}\")\n",
        "\n",
        "# 2) Split data\n",
        "split_ratio = 0.8\n",
        "train_size = int(split_ratio * len(train_data))\n",
        "val_size = len(train_data) - train_size\n",
        "train_data, val_data = random_split(train_data, [train_size, val_size], generator=generator1)\n",
        "\n",
        "# 3) Set device and loader\n",
        "device = torch.device('cuda' if torch.cuda.is_available() else 'cpu')\n",
        "pin = (device.type == 'cuda')\n",
        "print(f'Device: {device}')\n",
        "\n",
        "Batch_size = 64\n",
        "\n",
        "train_loader = DataLoader(train_data, batch_size = Batch_size, shuffle = True, pin_memory = pin)\n",
        "test_loader = DataLoader(test_data, batch_size = Batch_size, shuffle = False, pin_memory = pin)"
      ],
      "metadata": {
        "colab": {
          "base_uri": "https://localhost:8080/",
          "height": 552
        },
        "id": "SPpRC_vZko0s",
        "outputId": "178428d1-f306-4d9e-8265-548360cc6c2b"
      },
      "execution_count": 2,
      "outputs": [
        {
          "output_type": "stream",
          "name": "stderr",
          "text": [
            "100%|██████████| 26.4M/26.4M [00:00<00:00, 108MB/s]\n",
            "100%|██████████| 29.5k/29.5k [00:00<00:00, 3.94MB/s]\n",
            "100%|██████████| 4.42M/4.42M [00:00<00:00, 58.9MB/s]\n",
            "100%|██████████| 5.15k/5.15k [00:00<00:00, 17.7MB/s]\n"
          ]
        },
        {
          "output_type": "stream",
          "name": "stdout",
          "text": [
            "Sample size of Train data: 60000, image: torch.Size([1, 28, 28]), label: 9\n",
            "Class names: ['T-shirt/top', 'Trouser', 'Pullover', 'Dress', 'Coat', 'Sandal', 'Shirt', 'Sneaker', 'Bag', 'Ankle boot']\n",
            "Device: cpu\n"
          ]
        },
        {
          "output_type": "display_data",
          "data": {
            "text/plain": [
              "<Figure size 640x480 with 1 Axes>"
            ],
            "image/png": "[encoded data removed]"
          },
          "metadata": {}
        }
      ]
    },
    {
      "cell_type": "code",
      "source": [
        "## Define a timer\n",
        "def train_time(start, end, device: torch.device = None):\n",
        "    total_time = end - start\n",
        "    print(f\"Train time on {device}: {total_time:.3f} seconds\")"
      ],
      "metadata": {
        "id": "scFJVfiOTfnI"
      },
      "execution_count": 3,
      "outputs": []
    },
    {
      "cell_type": "code",
      "source": [
        "class ConvelutionalNN(nn.Module):\n",
        "\n",
        "    def __init__(self, in_ch, hidden_ch, out_ch):\n",
        "\n",
        "        super().__init__()\n",
        "\n",
        "        self.block1 = nn.Sequential(\n",
        "            nn.Conv2d(in_ch, hidden_ch, kernel_size=3, stride=1, padding=1),\n",
        "            nn.ReLU(),\n",
        "            nn.Conv2d(hidden_ch, hidden_ch, kernel_size=3, stride=1, padding=1),\n",
        "            nn.ReLU(),\n",
        "            nn.MaxPool2d(kernel_size=2,stride=2)\n",
        "            )\n",
        "\n",
        "        self.block2 = nn.Sequential(\n",
        "            nn.Conv2d(hidden_ch, hidden_ch, kernel_size=3, stride=1, padding=1),\n",
        "            nn.ReLU(),\n",
        "            nn.Conv2d(hidden_ch, hidden_ch, kernel_size=3, stride=1, padding=1),\n",
        "            nn.ReLU(),\n",
        "            nn.MaxPool2d(kernel_size=2,stride=2)\n",
        "            )\n",
        "\n",
        "        self.classifier = nn.Sequential(\n",
        "            nn.Flatten(),\n",
        "            nn.Linear(hidden_ch * 7 * 7, out_ch)\n",
        "        )\n",
        "\n",
        "    def forward(self, x):\n",
        "        x = self.block1(x)\n",
        "        # print(x.shape)\n",
        "        x = self.block2(x)\n",
        "        # print(x.shape)\n",
        "        x = self.classifier(x)\n",
        "        # print(x.shape)\n",
        "        return x"
      ],
      "metadata": {
        "id": "9KtdqLavkv72"
      },
      "execution_count": 4,
      "outputs": []
    },
    {
      "cell_type": "code",
      "source": [
        "model = ConvelutionalNN(1, 16, 10)\n",
        "# Get a batch of data from the train loader\n",
        "image, label = next(iter(train_data))\n",
        "image = image.unsqueeze(0)\n",
        "model(image)"
      ],
      "metadata": {
        "colab": {
          "base_uri": "https://localhost:8080/"
        },
        "id": "hrPs8JQPMrit",
        "outputId": "9b121715-0d8f-471d-e02f-e11486e4449e"
      },
      "execution_count": 5,
      "outputs": [
        {
          "output_type": "execute_result",
          "data": {
            "text/plain": [
              "tensor([[ 0.0519,  0.0195,  0.0226, -0.0091, -0.0021, -0.0344,  0.0180, -0.0057,\n",
              "         -0.0208,  0.0322]], grad_fn=<AddmmBackward0>)"
            ]
          },
          "metadata": {},
          "execution_count": 5
        }
      ]
    },
    {
      "cell_type": "code",
      "source": [
        "model = ConvelutionalNN(1, 12, 10).to(device)\n",
        "\n",
        "loss_fcn = nn.CrossEntropyLoss()\n",
        "\n",
        "# optimizer = optim.SGD(model.parameters(), lr = 0.01, momentum = 0.9, weight_decay = 1e-4)\n",
        "optimizer = optim.Adam(model.parameters(), weight_decay = 1e-5)\n",
        "\n",
        "epochs = 10\n",
        "\n",
        "train_error = []\n",
        "test_error = []\n",
        "train_accuracy = []\n",
        "test_accuracy = []\n",
        "start = timer()\n",
        "\n",
        "for epoch in tqdm(range(1, epochs + 1)):\n",
        "\n",
        "    model.train()\n",
        "    train_correct = 0\n",
        "    train_loss = 0\n",
        "\n",
        "    for X_batch, y_batch in train_loader:\n",
        "\n",
        "        X_batch = X_batch.to(device)\n",
        "        y_batch = y_batch.to(device)\n",
        "\n",
        "        y_pred = model(X_batch)\n",
        "        loss = loss_fcn(y_pred, y_batch)\n",
        "        optimizer.zero_grad()\n",
        "        loss.backward()\n",
        "        optimizer.step()\n",
        "\n",
        "        train_loss += loss.item() * X_batch.size(0)\n",
        "        predicted = y_pred.argmax(dim = 1)\n",
        "        train_correct += (predicted == y_batch).sum().item()\n",
        "\n",
        "    train_loss = train_loss / len(train_data)\n",
        "    train_acc = train_correct / len(train_data) * 100\n",
        "\n",
        "    model.eval()\n",
        "    with torch.inference_mode():\n",
        "\n",
        "        test_loss = 0\n",
        "        test_correct = 0\n",
        "\n",
        "        for X_batch, y_batch in test_loader:\n",
        "\n",
        "            X_batch = X_batch.to(device)\n",
        "            y_batch = y_batch.to(device)\n",
        "\n",
        "            y_pred = model(X_batch)\n",
        "\n",
        "            loss = loss_fcn(y_pred, y_batch)\n",
        "            test_loss += loss.item() * len(X_batch)\n",
        "\n",
        "            predicted = y_pred.argmax(dim = 1)\n",
        "            test_correct += (predicted == y_batch).sum().item()\n",
        "\n",
        "        test_loss = test_loss / len(test_data)\n",
        "        test_acc = test_correct / len(test_data) * 100\n",
        "\n",
        "        train_error.append(train_loss)\n",
        "        test_error.append(test_loss)\n",
        "        train_accuracy.append(train_acc)\n",
        "        test_accuracy.append(test_acc)\n",
        "\n",
        "        if epoch % 1 == 0:\n",
        "            print(f\"Epoch: {epoch} | Train loss: {train_loss: .4f} | Test loss: {test_loss: .4f} | Test accuracy: {test_acc:.2f}%\")\n",
        "\n",
        "\n",
        "end = timer()\n",
        "train_time(start, end, device)"
      ],
      "metadata": {
        "colab": {
          "base_uri": "https://localhost:8080/"
        },
        "id": "VgN81GjVQkto",
        "outputId": "7790487c-a9a3-4193-c1e1-5fb480d1e5b8"
      },
      "execution_count": 6,
      "outputs": [
        {
          "output_type": "stream",
          "name": "stderr",
          "text": [
            " 10%|█         | 1/10 [00:16<02:30, 16.70s/it]"
          ]
        },
        {
          "output_type": "stream",
          "name": "stdout",
          "text": [
            "Epoch: 1 | Train loss:  0.6370 | Test loss:  0.4657 | Test accuracy: 82.86%\n"
          ]
        },
        {
          "output_type": "stream",
          "name": "stderr",
          "text": [
            "\r 20%|██        | 2/10 [00:33<02:13, 16.69s/it]"
          ]
        },
        {
          "output_type": "stream",
          "name": "stdout",
          "text": [
            "Epoch: 2 | Train loss:  0.3821 | Test loss:  0.3728 | Test accuracy: 86.57%\n"
          ]
        },
        {
          "output_type": "stream",
          "name": "stderr",
          "text": [
            "\r 30%|███       | 3/10 [00:50<01:57, 16.75s/it]"
          ]
        },
        {
          "output_type": "stream",
          "name": "stdout",
          "text": [
            "Epoch: 3 | Train loss:  0.3384 | Test loss:  0.3431 | Test accuracy: 87.86%\n"
          ]
        },
        {
          "output_type": "stream",
          "name": "stderr",
          "text": [
            "\r 40%|████      | 4/10 [01:06<01:40, 16.70s/it]"
          ]
        },
        {
          "output_type": "stream",
          "name": "stdout",
          "text": [
            "Epoch: 4 | Train loss:  0.3160 | Test loss:  0.3293 | Test accuracy: 88.20%\n"
          ]
        },
        {
          "output_type": "stream",
          "name": "stderr",
          "text": [
            "\r 50%|█████     | 5/10 [01:23<01:24, 16.82s/it]"
          ]
        },
        {
          "output_type": "stream",
          "name": "stdout",
          "text": [
            "Epoch: 5 | Train loss:  0.2969 | Test loss:  0.3167 | Test accuracy: 88.75%\n"
          ]
        },
        {
          "output_type": "stream",
          "name": "stderr",
          "text": [
            "\r 60%|██████    | 6/10 [01:40<01:07, 16.91s/it]"
          ]
        },
        {
          "output_type": "stream",
          "name": "stdout",
          "text": [
            "Epoch: 6 | Train loss:  0.2834 | Test loss:  0.3060 | Test accuracy: 89.04%\n"
          ]
        },
        {
          "output_type": "stream",
          "name": "stderr",
          "text": [
            "\r 70%|███████   | 7/10 [01:57<00:50, 16.82s/it]"
          ]
        },
        {
          "output_type": "stream",
          "name": "stdout",
          "text": [
            "Epoch: 7 | Train loss:  0.2726 | Test loss:  0.3075 | Test accuracy: 88.74%\n"
          ]
        },
        {
          "output_type": "stream",
          "name": "stderr",
          "text": [
            "\r 80%|████████  | 8/10 [02:15<00:34, 17.09s/it]"
          ]
        },
        {
          "output_type": "stream",
          "name": "stdout",
          "text": [
            "Epoch: 8 | Train loss:  0.2633 | Test loss:  0.3007 | Test accuracy: 89.41%\n"
          ]
        },
        {
          "output_type": "stream",
          "name": "stderr",
          "text": [
            "\r 90%|█████████ | 9/10 [02:32<00:17, 17.05s/it]"
          ]
        },
        {
          "output_type": "stream",
          "name": "stdout",
          "text": [
            "Epoch: 9 | Train loss:  0.2531 | Test loss:  0.2889 | Test accuracy: 89.78%\n"
          ]
        },
        {
          "output_type": "stream",
          "name": "stderr",
          "text": [
            "100%|██████████| 10/10 [02:49<00:00, 16.92s/it]"
          ]
        },
        {
          "output_type": "stream",
          "name": "stdout",
          "text": [
            "Epoch: 10 | Train loss:  0.2461 | Test loss:  0.2899 | Test accuracy: 89.58%\n",
            "Train time on cpu: 169.205 seconds\n"
          ]
        },
        {
          "output_type": "stream",
          "name": "stderr",
          "text": [
            "\n"
          ]
        }
      ]
    },
    {
      "cell_type": "code",
      "source": [
        "## plot error\n",
        "x = np.arange(1, epochs +1)\n",
        "plt.plot(x, train_error, label = \"Train Error\")\n",
        "plt.plot(x, test_error, label = \"Test Error\")\n",
        "plt.legend()"
      ],
      "metadata": {
        "colab": {
          "base_uri": "https://localhost:8080/",
          "height": 447
        },
        "id": "jxXQhNI-cbt8",
        "outputId": "9e21d6c5-fb2b-45b8-c1ad-21b066b60092"
      },
      "execution_count": 7,
      "outputs": [
        {
          "output_type": "execute_result",
          "data": {
            "text/plain": [
              "<matplotlib.legend.Legend at 0x78855b48a480>"
            ]
          },
          "metadata": {},
          "execution_count": 7
        },
        {
          "output_type": "display_data",
          "data": {
            "text/plain": [
              "<Figure size 640x480 with 1 Axes>"
            ],
            "image/png": "[encoded data removed]"
          },
          "metadata": {}
        }
      ]
    },
    {
      "cell_type": "code",
      "source": [
        "## plot accuracy\n",
        "plt.plot(x, train_accuracy, label = \"Train Error\")\n",
        "plt.plot(x, test_accuracy, label = \"Test Error\")\n",
        "plt.legend()"
      ],
      "metadata": {
        "colab": {
          "base_uri": "https://localhost:8080/",
          "height": 447
        },
        "id": "AQ92dcDQc1o-",
        "outputId": "a5e0a005-b887-4e15-c59b-f087320afd75"
      },
      "execution_count": 8,
      "outputs": [
        {
          "output_type": "execute_result",
          "data": {
            "text/plain": [
              "<matplotlib.legend.Legend at 0x7885592d1f40>"
            ]
          },
          "metadata": {},
          "execution_count": 8
        },
        {
          "output_type": "display_data",
          "data": {
            "text/plain": [
              "<Figure size 640x480 with 1 Axes>"
            ],
            "image/png": "[encoded data removed]"
          },
          "metadata": {}
        }
      ]
    }
  ]
}