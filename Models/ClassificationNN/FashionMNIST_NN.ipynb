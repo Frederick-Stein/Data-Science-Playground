{
  "nbformat": 4,
  "nbformat_minor": 0,
  "metadata": {
    "colab": {
      "provenance": [],
      "authorship_tag": "ABX9TyPr1K3jBXg9iYm3ys2LnWEY",
      "include_colab_link": true
    },
    "kernelspec": {
      "name": "python3",
      "display_name": "Python 3"
    },
    "language_info": {
      "name": "python"
    }
  },
  "cells": [
    {
      "cell_type": "markdown",
      "metadata": {
        "id": "view-in-github",
        "colab_type": "text"
      },
      "source": [
        "<a href=\"https://colab.research.google.com/github/Frederick-Stein/Data-Science-Playground/blob/main/FashionMNIST_NN.ipynb\" target=\"_parent\"><img src=\"https://colab.research.google.com/assets/colab-badge.svg\" alt=\"Open In Colab\"/></a>"
      ]
    },
    {
      "cell_type": "code",
      "execution_count": 23,
      "metadata": {
        "id": "F6R1odjUxmzG"
      },
      "outputs": [],
      "source": [
        "import torch\n",
        "import torch.nn as nn\n",
        "import numpy as np\n",
        "import torch.optim as optim\n",
        "import matplotlib.pyplot as plt\n",
        "from torch.utils.data import random_split, DataLoader\n",
        "import torch.nn.functional as F\n",
        "import pandas as pd\n",
        "from torchvision import datasets, transforms\n",
        "from  pathlib import Path\n",
        "# from torchmetrics.classification import Accuracy\n",
        "from timeit import default_timer as timer"
      ]
    },
    {
      "cell_type": "code",
      "source": [
        "# 1) Datasets\n",
        "generator1 = torch.Generator().manual_seed(42)\n",
        "train_data = datasets.FashionMNIST(root=\"./data\", train=True,  download=True, transform=transforms.ToTensor())\n",
        "test_data = datasets.FashionMNIST(root=\"./data\", train=False, download=True, transform=transforms.ToTensor())\n",
        "\n",
        "image, label = next(iter(test_data))\n",
        "print(f\"Sample size of Train data: {len(train_data)}, image: {image.size()}, label: {label}\")\n",
        "plt.imshow(image.squeeze(), cmap=\"gray\")\n",
        "class_name = train_data.classes\n",
        "print(f\"Class names: {class_name}\")\n",
        "\n",
        "# 2) Split data\n",
        "split_ratio = 0.8\n",
        "train_size = int(split_ratio * len(train_data))\n",
        "val_size = len(train_data) - train_size\n",
        "train_data, val_data = random_split(train_data, [train_size, val_size], generator=generator1)\n",
        "\n",
        "# 3) Set device and loader\n",
        "device = torch.device('cuda' if torch.cuda.is_available() else 'cpu')\n",
        "pin = (device.type == 'cuda')\n",
        "print(f'Device: {device}')\n",
        "\n",
        "Batch_size = 32\n",
        "train_loader = DataLoader(train_data, batch_size = Batch_size, shuffle = True, pin_memory = pin)\n",
        "test_loader = DataLoader(test_data, batch_size = Batch_size, shuffle = False, pin_memory = pin)"
      ],
      "metadata": {
        "colab": {
          "base_uri": "https://localhost:8080/",
          "height": 482
        },
        "id": "l0yIdOeyx5Z4",
        "outputId": "5167add5-8669-4721-a266-c39917d53cbf"
      },
      "execution_count": 24,
      "outputs": [
        {
          "output_type": "stream",
          "name": "stdout",
          "text": [
            "Sample size of Train data: 60000, image: torch.Size([1, 28, 28]), label: 9\n",
            "Class names: ['T-shirt/top', 'Trouser', 'Pullover', 'Dress', 'Coat', 'Sandal', 'Shirt', 'Sneaker', 'Bag', 'Ankle boot']\n",
            "Device: cpu\n"
          ]
        },
        {
          "output_type": "display_data",
          "data": {
            "text/plain": [
              "<Figure size 640x480 with 1 Axes>"
            ],
            "image/png": "[encoded data removed]"
          },
          "metadata": {}
        }
      ]
    },
    {
      "cell_type": "code",
      "source": [
        "## Define a timer\n",
        "def train_time(start, end, device: torch.device = None):\n",
        "    total_time = end - start\n",
        "    print(f\"Train time on {device}: {total_time:.3f} seconds\")"
      ],
      "metadata": {
        "id": "6nZjpa_2yB0Q"
      },
      "execution_count": 25,
      "outputs": []
    },
    {
      "cell_type": "code",
      "source": [
        "class ClassificationNN(nn.Module):\n",
        "\n",
        "    def __init__(self, sizes):\n",
        "\n",
        "        super().__init__()\n",
        "\n",
        "        self.activiation = nn.ReLU()\n",
        "        # self.activiation = nn.Sigmoid()\n",
        "        # self.activiation = nn.Tanh()\n",
        "\n",
        "        layers = [nn.Flatten()]\n",
        "        for i in range(len(sizes) - 1):\n",
        "            layers.append(nn.Linear(sizes[i], sizes[i+1]))\n",
        "            if i != len(sizes) - 2:\n",
        "                layers.append(self.activiation)\n",
        "        self.layer_stack = nn.Sequential(*layers)\n",
        "\n",
        "    def forward(self, x):\n",
        "        return self.layer_stack(x)"
      ],
      "metadata": {
        "id": "fNJULApcyEd_"
      },
      "execution_count": 26,
      "outputs": []
    },
    {
      "cell_type": "code",
      "source": [
        "# test\n",
        "X_0, y_0 = next(iter(train_loader))\n",
        "print(X_0.shape, y_0)\n",
        "device\n",
        "model = ClassificationNN([784, 30, 10]).to(device)\n",
        "X_0= X_0.to(device)\n",
        "model(X_0)"
      ],
      "metadata": {
        "colab": {
          "base_uri": "https://localhost:8080/"
        },
        "id": "SzCYZFiOyOUG",
        "outputId": "7d5578a5-5591-44d7-85fe-d092c50cb2ca"
      },
      "execution_count": 27,
      "outputs": [
        {
          "output_type": "stream",
          "name": "stdout",
          "text": [
            "torch.Size([32, 1, 28, 28]) tensor([5, 3, 6, 2, 3, 0, 8, 0, 2, 0, 9, 5, 5, 7, 9, 3, 6, 2, 5, 6, 4, 2, 0, 7,\n",
            "        5, 8, 6, 6, 0, 4, 7, 8])\n"
          ]
        },
        {
          "output_type": "execute_result",
          "data": {
            "text/plain": [
              "tensor([[ 0.1280, -0.0040,  0.1821,  0.0379, -0.0589,  0.0057,  0.0718,  0.0477,\n",
              "         -0.0996,  0.1487],\n",
              "        [ 0.1623, -0.0805,  0.1171, -0.0235, -0.0423, -0.1067,  0.0029,  0.1163,\n",
              "         -0.0851,  0.0804],\n",
              "        [ 0.1704,  0.0641,  0.1941, -0.1544, -0.0475, -0.1595, -0.2132,  0.2356,\n",
              "         -0.1331,  0.1568],\n",
              "        [ 0.2423,  0.1914,  0.1634, -0.2174, -0.0184, -0.0431, -0.2249,  0.2590,\n",
              "         -0.0403,  0.2992],\n",
              "        [ 0.2230,  0.0325,  0.1823, -0.1641, -0.0131, -0.1442, -0.1238,  0.1421,\n",
              "         -0.0567,  0.0516],\n",
              "        [ 0.1482,  0.0950,  0.1288, -0.1070,  0.0013, -0.1161, -0.1234,  0.1480,\n",
              "         -0.0017,  0.0916],\n",
              "        [ 0.2952,  0.1015,  0.1306, -0.1977, -0.1234, -0.0584, -0.0750,  0.0550,\n",
              "         -0.1378,  0.3582],\n",
              "        [ 0.1691,  0.2052,  0.0938, -0.0490,  0.0198, -0.0832, -0.1456,  0.1380,\n",
              "         -0.0319,  0.1209],\n",
              "        [ 0.1814, -0.0163,  0.1142, -0.0172, -0.0677, -0.0840,  0.0088,  0.0219,\n",
              "         -0.0618,  0.0808],\n",
              "        [ 0.1671, -0.0801,  0.0841,  0.0146, -0.0490, -0.0785,  0.0921, -0.0165,\n",
              "         -0.0588,  0.0374],\n",
              "        [ 0.1257,  0.0531,  0.1277,  0.0585, -0.0426, -0.0304,  0.0121,  0.2403,\n",
              "         -0.0670,  0.1714],\n",
              "        [ 0.1367, -0.0513,  0.1392,  0.0373, -0.0533, -0.0293,  0.1135,  0.0765,\n",
              "         -0.1061,  0.0863],\n",
              "        [ 0.1281, -0.0290,  0.1483,  0.0822, -0.0320, -0.0025,  0.1073,  0.0717,\n",
              "         -0.1067,  0.1003],\n",
              "        [ 0.1165, -0.0264,  0.1539,  0.0811, -0.0678, -0.0332,  0.1069,  0.0880,\n",
              "         -0.0805,  0.1246],\n",
              "        [ 0.1618,  0.1407,  0.1425, -0.0919,  0.0065, -0.0645, -0.1001,  0.1176,\n",
              "          0.0045,  0.2625],\n",
              "        [ 0.1640, -0.0900,  0.0956,  0.0178, -0.0642, -0.0673,  0.0729,  0.0550,\n",
              "         -0.0778,  0.0839],\n",
              "        [ 0.1719,  0.0081,  0.1268, -0.2111, -0.0408, -0.1011, -0.1856,  0.1963,\n",
              "         -0.1347,  0.1769],\n",
              "        [ 0.1698, -0.0755,  0.1007, -0.0210, -0.0478, -0.0605,  0.0577, -0.0179,\n",
              "         -0.0572,  0.0817],\n",
              "        [ 0.1910, -0.0183,  0.1452,  0.0410, -0.1522, -0.0262, -0.0124,  0.0791,\n",
              "         -0.0516,  0.2113],\n",
              "        [ 0.1954,  0.1191,  0.1631, -0.1845, -0.0281, -0.1032, -0.1964,  0.1426,\n",
              "         -0.1187,  0.2220],\n",
              "        [ 0.1586,  0.0438,  0.1799, -0.1053, -0.0677, -0.0916, -0.1173,  0.1392,\n",
              "         -0.1135,  0.1761],\n",
              "        [ 0.1475,  0.0063,  0.0368, -0.0502, -0.0734, -0.0759, -0.0491,  0.0690,\n",
              "          0.0048,  0.1087],\n",
              "        [ 0.1475, -0.0004,  0.0947, -0.0139,  0.0247, -0.0847,  0.0091,  0.0884,\n",
              "         -0.0585,  0.0304],\n",
              "        [ 0.1410, -0.0495,  0.1346,  0.0628, -0.0594, -0.0192,  0.0651,  0.1030,\n",
              "         -0.1013,  0.1138],\n",
              "        [ 0.1067, -0.0132,  0.1062,  0.0894, -0.0424,  0.0082,  0.1262,  0.0008,\n",
              "         -0.0979,  0.0126],\n",
              "        [ 0.2075,  0.0723,  0.1357, -0.0969, -0.0878, -0.0570, -0.0706,  0.0749,\n",
              "         -0.1134,  0.2727],\n",
              "        [ 0.1903,  0.0583,  0.1256, -0.0478,  0.0167, -0.1186, -0.0887,  0.0924,\n",
              "         -0.0930,  0.0158],\n",
              "        [ 0.1645,  0.0827,  0.1960, -0.1231, -0.0020, -0.0904, -0.1524,  0.2352,\n",
              "         -0.0946,  0.1714],\n",
              "        [ 0.1866,  0.1140,  0.1243, -0.0652, -0.0196, -0.1075, -0.1388,  0.1185,\n",
              "         -0.0676,  0.0766],\n",
              "        [ 0.1783,  0.1273,  0.1073, -0.1541, -0.0828, -0.1280, -0.1971,  0.1808,\n",
              "         -0.1253,  0.1604],\n",
              "        [ 0.1360,  0.0362,  0.1352,  0.0693, -0.0764, -0.0251,  0.0262,  0.1652,\n",
              "         -0.0324,  0.1084],\n",
              "        [ 0.2988,  0.0172,  0.1485, -0.1443, -0.1098, -0.0186, -0.0172,  0.0493,\n",
              "         -0.0819,  0.2985]], grad_fn=<AddmmBackward0>)"
            ]
          },
          "metadata": {},
          "execution_count": 27
        }
      ]
    },
    {
      "cell_type": "code",
      "source": [
        "## Move the model to the device\n",
        "model = ClassificationNN([784, 30, 10, len(class_name)]).to(device)\n",
        "\n",
        "## Loss function\n",
        "loss_fcn = nn.CrossEntropyLoss()\n",
        "\n",
        "## Optimization method\n",
        "# optimizer = optim.SGD(model.parameters(), lr = 0.1, momentum = 0.9)\n",
        "optimizer = optim.Adam(model.parameters(), lr = 0.001, weight_decay= 1e-4)\n",
        "\n",
        "\n",
        "## Metric setup\n",
        "# accuracy_metric = Accuracy(task=\"multiclass\", num_classes=10).to(device)\n",
        "\n",
        "epochs = 10\n",
        "train_error = []\n",
        "test_error = []\n",
        "train_accuracy = []\n",
        "test_accuracy = []\n",
        "epoch_range = []\n",
        "\n",
        "train_time_start = timer()\n",
        "\n",
        "for epoch in range(1, epochs+1):\n",
        "\n",
        "    model.train()\n",
        "    train_loss = 0\n",
        "    correct_train = 0\n",
        "    # accuracy_metric.reset()\n",
        "\n",
        "    for X_batch, y_batch in train_loader:\n",
        "\n",
        "        # Move data to device\n",
        "        X_batch = X_batch.to(device)\n",
        "        y_batch = y_batch.to(device)\n",
        "\n",
        "        # Feedforward\n",
        "        y_pred = model(X_batch)\n",
        "\n",
        "        # Compute loss\n",
        "        loss = loss_fcn(y_pred, y_batch)\n",
        "\n",
        "        # Initialize optimizer\n",
        "        optimizer.zero_grad()\n",
        "\n",
        "        # Back-propogation\n",
        "        loss.backward()\n",
        "\n",
        "        # Gradient descent\n",
        "        optimizer.step()\n",
        "\n",
        "        train_loss += loss.detach().item() * X_batch.size(0)\n",
        "        predicted = y_pred.argmax(dim=1)\n",
        "        correct_train += (predicted == y_batch).sum().item()\n",
        "        # accuracy_metric.update(predicted, y_batch)\n",
        "\n",
        "    train_loss /= len(train_data)\n",
        "    train_acc = correct_train / len(train_data) * 100 # train accuracy\n",
        "    # train_acc = accuracy_metric.compute().item() * 100\n",
        "\n",
        "    model.eval()\n",
        "    with torch.inference_mode():\n",
        "        correct_test = 0 # accuracy\n",
        "        test_loss = 0\n",
        "        # accuracy_metric.reset()\n",
        "\n",
        "\n",
        "        for X_batch, y_batch in test_loader:\n",
        "            # Move data to device\n",
        "            X_batch = X_batch.to(device, non_blocking=True)\n",
        "            y_batch = y_batch.to(device, non_blocking=True)\n",
        "\n",
        "            # Training process\n",
        "            y_pred = model(X_batch)\n",
        "\n",
        "            loss = loss_fcn(y_pred, y_batch)\n",
        "            test_loss += loss.item() * X_batch.size(0)\n",
        "\n",
        "            # Calculate accuracy\n",
        "            predicted = y_pred.argmax(dim=1)\n",
        "            correct_test += (predicted == y_batch).sum().item()\n",
        "            # accuracy_metric.update(predicted, y_batch)\n",
        "\n",
        "        test_loss /= len(test_data)\n",
        "        test_acc = correct_test / len(test_data) * 100\n",
        "        # test_acc = accuracy_metric.compute().item() * 100\n",
        "\n",
        "        train_error.append(train_loss)\n",
        "        test_error.append(test_loss)\n",
        "        train_accuracy.append(train_acc)\n",
        "        test_accuracy.append(test_acc)\n",
        "        epoch_range.append(epoch)\n",
        "\n",
        "        if epoch % 5 == 0:\n",
        "            print(f\"Epoch: {epoch} | Train loss: {train_loss: .4f} | Test loss: {test_loss: .4f} | Test accuracy: {test_acc:.2f}%\")\n",
        "\n",
        "train_time_end = timer()\n",
        "train_time(train_time_start, train_time_end, device)"
      ],
      "metadata": {
        "colab": {
          "base_uri": "https://localhost:8080/"
        },
        "id": "hnwfsb8OyTDo",
        "outputId": "52d9cc9d-f180-4ab9-e2ac-b0b900cb49b4"
      },
      "execution_count": 28,
      "outputs": [
        {
          "output_type": "stream",
          "name": "stdout",
          "text": [
            "Epoch: 5 | Train loss:  0.3938 | Test loss:  0.4480 | Test accuracy: 84.31%\n",
            "Epoch: 10 | Train loss:  0.3442 | Test loss:  0.4216 | Test accuracy: 85.14%\n",
            "Train time on cpu: 116.931 seconds\n"
          ]
        }
      ]
    },
    {
      "cell_type": "code",
      "source": [
        "# Plot error\n",
        "plt.plot(epoch_range, train_error, label = \"Train error\")\n",
        "plt.plot(epoch_range, test_error, label = \"Test error\")\n",
        "plt.legend()"
      ],
      "metadata": {
        "id": "t0Mnpy0eyUmj",
        "colab": {
          "base_uri": "https://localhost:8080/",
          "height": 447
        },
        "outputId": "0bda00b7-7cd3-4cb0-80b5-d6135d198e3d"
      },
      "execution_count": 29,
      "outputs": [
        {
          "output_type": "execute_result",
          "data": {
            "text/plain": [
              "<matplotlib.legend.Legend at 0x79a4f5cca960>"
            ]
          },
          "metadata": {},
          "execution_count": 29
        },
        {
          "output_type": "display_data",
          "data": {
            "text/plain": [
              "<Figure size 640x480 with 1 Axes>"
            ],
            "image/png": "[encoded data removed]"
          },
          "metadata": {}
        }
      ]
    },
    {
      "cell_type": "code",
      "source": [
        "# Plot accuracy\n",
        "plt.plot(epoch_range, train_accuracy, label = \"Train accuracy\")\n",
        "plt.plot(epoch_range, test_accuracy, label = \"Test accuracy\")\n",
        "plt.legend()"
      ],
      "metadata": {
        "id": "CGHmC2JqyXkZ",
        "colab": {
          "base_uri": "https://localhost:8080/",
          "height": 447
        },
        "outputId": "10ca8dd8-69ba-4543-830c-64321693a80a"
      },
      "execution_count": 30,
      "outputs": [
        {
          "output_type": "execute_result",
          "data": {
            "text/plain": [
              "<matplotlib.legend.Legend at 0x79a4f6859c40>"
            ]
          },
          "metadata": {},
          "execution_count": 30
        },
        {
          "output_type": "display_data",
          "data": {
            "text/plain": [
              "<Figure size 640x480 with 1 Axes>"
            ],
            "image/png": "[encoded data removed]"
          },
          "metadata": {}
        }
      ]
    }
  ]
}
