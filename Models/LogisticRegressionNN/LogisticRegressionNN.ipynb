{
  "nbformat": 4,
  "nbformat_minor": 0,
  "metadata": {
    "colab": {
      "provenance": [],
      "authorship_tag": "ABX9TyPiMAAmVtGuLv9VhR2a5bxy",
      "include_colab_link": true
    },
    "kernelspec": {
      "name": "python3",
      "display_name": "Python 3"
    },
    "language_info": {
      "name": "python"
    }
  },
  "cells": [
    {
      "cell_type": "markdown",
      "metadata": {
        "id": "view-in-github",
        "colab_type": "text"
      },
      "source": [
        "<a href=\"https://colab.research.google.com/github/Frederick-Stein/Data-Science-Playground/blob/main/LogisticRegressionNN.ipynb\" target=\"_parent\"><img src=\"https://colab.research.google.com/assets/colab-badge.svg\" alt=\"Open In Colab\"/></a>"
      ]
    },
    {
      "cell_type": "code",
      "execution_count": null,
      "metadata": {
        "id": "EInOk7d84s-U"
      },
      "outputs": [],
      "source": [
        "import torch\n",
        "import numpy as np\n",
        "import matplotlib.pyplot as plt\n",
        "import pandas as pd\n",
        "import torch.optim as optim\n",
        "import torch.nn as nn\n",
        "import torch.nn.functional as F\n",
        "from sklearn import datasets\n",
        "from sklearn.preprocessing import StandardScaler\n",
        "from sklearn.model_selection import train_test_split\n",
        "from torch.utils.data import TensorDataset, DataLoader"
      ]
    },
    {
      "cell_type": "code",
      "source": [
        "# Load data of breast cancer from datasets\n",
        "bc = datasets.load_breast_cancer()\n",
        "X, y = bc.data, bc.target\n",
        "n_samples, n_features = X.shape\n",
        "\n",
        "print(f'Number of samples: {n_samples}')\n",
        "print(f'Number of features: {n_features}')\n",
        "\n",
        "X_train, X_test, y_train, y_test = train_test_split(X, y, test_size = 0.2, random_state = 42)\n",
        "\n",
        "sc = StandardScaler()\n",
        "X_train = sc.fit_transform(X_train)\n",
        "X_test = sc.transform(X_test)\n",
        "\n",
        "X_train = torch.from_numpy(X_train.astype(np.float32))\n",
        "X_test = torch.from_numpy(X_test.astype(np.float32))\n",
        "y_train = torch.from_numpy(y_train.astype(np.float32))\n",
        "y_test = torch.from_numpy(y_test.astype(np.float32))\n",
        "\n",
        "print(f'y_train shape: {y_train.shape}')\n",
        "y_train = y_train.view(y_train.shape[0], 1)\n",
        "y_test = y_test.view(y_test.shape[0], 1)\n",
        "print(f'y_train shape: {y_train.shape}')\n",
        "\n",
        "train_data = TensorDataset(X_train, y_train)\n",
        "train_loader = DataLoader(train_data, batch_size = 10, shuffle = True)\n",
        "print(f\"Train loader: {len(train_loader)}\")\n",
        "\n",
        "test_data = TensorDataset(X_test, y_test)\n",
        "test_loader = DataLoader(test_data, batch_size = 32, shuffle = False)"
      ],
      "metadata": {
        "colab": {
          "base_uri": "https://localhost:8080/"
        },
        "id": "8-lvVa_F5OkE",
        "outputId": "631ab1ba-3297-4572-dcd2-ee2a77d70aad"
      },
      "execution_count": null,
      "outputs": [
        {
          "output_type": "stream",
          "name": "stdout",
          "text": [
            "Number of samples: 569\n",
            "Number of features: 30\n",
            "y_train shape: torch.Size([455])\n",
            "y_train shape: torch.Size([455, 1])\n",
            "Train loader: 46\n"
          ]
        }
      ]
    },
    {
      "cell_type": "code",
      "source": [
        "class LogisticRegression(nn.Module):\n",
        "    def __init__(self, in_features, out_features):\n",
        "        super().__init__()\n",
        "        self.linear = nn.Linear(in_features, out_features)\n",
        "\n",
        "    def forward(self, x):\n",
        "        return torch.sigmoid(self.linear(x))\n",
        "\n",
        "model= LogisticRegression(n_features, 1)\n",
        "criterion = nn.BCELoss()\n",
        "optimizer = optim.SGD(model.parameters(), lr = 0.01, momentum = 0.9)\n",
        "\n",
        "train_error = []\n",
        "test_error = []\n",
        "epoch_count = []\n",
        "\n",
        "epochs = 100\n",
        "\n",
        "for epoch in range(epochs + 1):\n",
        "    model.train()\n",
        "\n",
        "    ### Use mini-batch\n",
        "\n",
        "    # total_loss = 0\n",
        "    # for X_batch, y_batch in train_loader:\n",
        "\n",
        "    #     y_pred = model(X_batch)\n",
        "    #     loss = criterion(y_pred, y_batch)\n",
        "\n",
        "    #     optimizer.zero_grad()\n",
        "    #     loss.backward()\n",
        "    #     optimizer.step()\n",
        "\n",
        "    #     total_loss += loss.item()\n",
        "\n",
        "    # total_loss /= len(train_loader)\n",
        "\n",
        "\n",
        "    y_pred = model(X_train)\n",
        "    loss = criterion(y_pred, y_train)\n",
        "\n",
        "    optimizer.zero_grad()\n",
        "    loss.backward()\n",
        "    optimizer.step()\n",
        "\n",
        "    total_loss = loss.item()\n",
        "\n",
        "\n",
        "\n",
        "    model.eval()\n",
        "    with torch.inference_mode():\n",
        "\n",
        "        test_pred = model(X_test)\n",
        "        test_loss = criterion(test_pred, y_test)\n",
        "        accuracy = (test_pred.round() == y_test).sum() / len(y_test)\n",
        "        precision = ((test_pred.round() == y_test) & (y_test == 1)).sum() / (test_pred.round() == 1).sum()\n",
        "        recall = ((test_pred.round() == y_test) & (y_test == 1)).sum() / (y_test == 1).sum()\n",
        "        f1_score = 2 * (precision * recall) / (precision + recall)\n",
        "\n",
        "        train_error.append(total_loss)\n",
        "        test_error.append(test_loss.item())\n",
        "        epoch_count.append(epoch)\n",
        "\n",
        "        if epoch % 10 == 0:\n",
        "            print(f'Epoch: {epoch}, Train Loss: {loss.item():.4f}, Test Loss: {test_loss.item():.4f}, Precision: {precision.item(): .4f}, Recall: {recall.item(): .4f}, F1-score: {f1_score.item(): .4f}')"
      ],
      "metadata": {
        "colab": {
          "base_uri": "https://localhost:8080/"
        },
        "id": "dG-9gF8UDssd",
        "outputId": "3259202d-8719-42e5-b8f1-660f5f5b94e6"
      },
      "execution_count": null,
      "outputs": [
        {
          "output_type": "stream",
          "name": "stdout",
          "text": [
            "Epoch: 0, Train Loss: 0.5587, Test Loss: 0.5197, Precision:  0.8500, Recall:  0.9577, F1-score:  0.9007\n",
            "Epoch: 10, Train Loss: 0.3183, Test Loss: 0.2635, Precision:  0.9452, Recall:  0.9718, F1-score:  0.9583\n",
            "Epoch: 20, Train Loss: 0.2007, Test Loss: 0.1596, Precision:  0.9722, Recall:  0.9859, F1-score:  0.9790\n",
            "Epoch: 30, Train Loss: 0.1565, Test Loss: 0.1254, Precision:  0.9859, Recall:  0.9859, F1-score:  0.9859\n",
            "Epoch: 40, Train Loss: 0.1347, Test Loss: 0.1108, Precision:  0.9859, Recall:  0.9859, F1-score:  0.9859\n",
            "Epoch: 50, Train Loss: 0.1229, Test Loss: 0.1028, Precision:  0.9859, Recall:  0.9859, F1-score:  0.9859\n",
            "Epoch: 60, Train Loss: 0.1156, Test Loss: 0.0973, Precision:  0.9859, Recall:  0.9859, F1-score:  0.9859\n",
            "Epoch: 70, Train Loss: 0.1102, Test Loss: 0.0932, Precision:  0.9859, Recall:  0.9859, F1-score:  0.9859\n",
            "Epoch: 80, Train Loss: 0.1061, Test Loss: 0.0898, Precision:  0.9859, Recall:  0.9859, F1-score:  0.9859\n",
            "Epoch: 90, Train Loss: 0.1027, Test Loss: 0.0871, Precision:  0.9861, Recall:  1.0000, F1-score:  0.9930\n",
            "Epoch: 100, Train Loss: 0.0998, Test Loss: 0.0848, Precision:  0.9861, Recall:  1.0000, F1-score:  0.9930\n"
          ]
        }
      ]
    },
    {
      "cell_type": "code",
      "source": [
        "plt.plot(epoch_count, train_error, c = 'blue', label = 'Training Error')\n",
        "plt.plot(epoch_count, test_error, c = 'red', label = 'Testing Error')\n",
        "plt.xlabel('Epoch')\n",
        "plt.ylabel('Error')\n",
        "plt.legend()"
      ],
      "metadata": {
        "colab": {
          "base_uri": "https://localhost:8080/",
          "height": 466
        },
        "id": "89diMl3_IL63",
        "outputId": "fbde1705-93ca-48ee-92c8-81095ca4cdc6"
      },
      "execution_count": null,
      "outputs": [
        {
          "output_type": "execute_result",
          "data": {
            "text/plain": [
              "<matplotlib.legend.Legend at 0x7a5e80ccaa90>"
            ]
          },
          "metadata": {},
          "execution_count": 22
        },
        {
          "output_type": "display_data",
          "data": {
            "text/plain": [
              "<Figure size 640x480 with 1 Axes>"
            ],
            "image/png": "[encoded data removed]"
          },
          "metadata": {}
        }
      ]
    },
    {
      "cell_type": "code",
      "source": [],
      "metadata": {
        "id": "x-Vq9TY1LDZd"
      },
      "execution_count": null,
      "outputs": []
    }
  ]
}
